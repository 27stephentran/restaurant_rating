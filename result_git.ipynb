{
 "cells": [
  {
   "cell_type": "code",
   "execution_count": 38,
   "metadata": {},
   "outputs": [],
   "source": [
    "import pickle\n",
    "import numpy as np"
   ]
  },
  {
   "cell_type": "code",
   "execution_count": 39,
   "metadata": {},
   "outputs": [
    {
     "name": "stdout",
     "output_type": "stream",
     "text": [
      "Keras model archive loading:\n",
      "File Name                                             Modified             Size\n",
      "config.json                                    2023-07-06 13:58:10         2123\n",
      "metadata.json                                  2023-07-06 13:58:10           64\n",
      "variables.h5                                   2023-07-06 13:58:10       165696\n"
     ]
    },
    {
     "name": "stdout",
     "output_type": "stream",
     "text": [
      "Keras weights file (<HDF5 file \"variables.h5\" (mode r)>) loading:\n",
      "...layers\\dense\n",
      "......vars\n",
      ".........0\n",
      ".........1\n",
      "...layers\\dense_1\n",
      "......vars\n",
      ".........0\n",
      ".........1\n",
      "...layers\\dense_2\n",
      "......vars\n",
      ".........0\n",
      ".........1\n",
      "...layers\\dropout\n",
      "......vars\n",
      "...layers\\dropout_1\n",
      "......vars\n",
      "...metrics\\mean\n",
      "......vars\n",
      ".........0\n",
      ".........1\n",
      "...metrics\\mean_metric_wrapper\n",
      "......vars\n",
      ".........0\n",
      ".........1\n",
      "...optimizer\n",
      "......vars\n",
      ".........0\n",
      ".........1\n",
      ".........10\n",
      ".........11\n",
      ".........12\n",
      ".........2\n",
      ".........3\n",
      ".........4\n",
      ".........5\n",
      ".........6\n",
      ".........7\n",
      ".........8\n",
      ".........9\n",
      "...vars\n",
      "1/1 [==============================] - 0s 101ms/step\n"
     ]
    }
   ],
   "source": [
    "\n",
    "with open(\"model_with_20epochs.pickle\", 'rb') as file:  \n",
    "    model_20epochs = pickle.load(file)\n",
    "input_data = np.array([0, 1, 1, 1, 1, 1, 10, 2, 3, 10, 10, 1200, 0.9, 2, 17, 20, 50, 3, 100, 1800, 15, 200, 2, 1, 1])\n",
    "input_data = input_data.reshape(1, -1)\n",
    "w20epochs_prediction = model_20epochs.predict(input_data)[0][0]"
   ]
  },
  {
   "cell_type": "code",
   "execution_count": 40,
   "metadata": {},
   "outputs": [
    {
     "name": "stdout",
     "output_type": "stream",
     "text": [
      "Keras model archive loading:\n",
      "File Name                                             Modified             Size\n",
      "config.json                                    2023-07-06 13:51:06         2115\n",
      "metadata.json                                  2023-07-06 13:51:06           64\n",
      "variables.h5                                   2023-07-06 13:51:06       165696\n"
     ]
    },
    {
     "name": "stdout",
     "output_type": "stream",
     "text": [
      "Keras weights file (<HDF5 file \"variables.h5\" (mode r)>) loading:\n",
      "...layers\\dense\n",
      "......vars\n",
      ".........0\n",
      ".........1\n",
      "...layers\\dense_1\n",
      "......vars\n",
      ".........0\n",
      ".........1\n",
      "...layers\\dense_2\n",
      "......vars\n",
      ".........0\n",
      ".........1\n",
      "...layers\\dropout\n",
      "......vars\n",
      "...layers\\dropout_1\n",
      "......vars\n",
      "...metrics\\mean\n",
      "......vars\n",
      ".........0\n",
      ".........1\n",
      "...metrics\\mean_metric_wrapper\n",
      "......vars\n",
      ".........0\n",
      ".........1\n",
      "...optimizer\n",
      "......vars\n",
      ".........0\n",
      ".........1\n",
      ".........10\n",
      ".........11\n",
      ".........12\n",
      ".........2\n",
      ".........3\n",
      ".........4\n",
      ".........5\n",
      ".........6\n",
      ".........7\n",
      ".........8\n",
      ".........9\n",
      "...vars\n",
      "1/1 [==============================] - 0s 116ms/step\n"
     ]
    }
   ],
   "source": [
    "with open(\"model_with_50epochs.pickle\", 'rb') as file:  \n",
    "    model_with_50epochs = pickle.load(file)\n",
    "input_data = np.array([0, 1, 1, 1, 1, 1, 10, 2, 3, 10, 10, 1200, 0.9, 2, 17, 20, 50, 3, 100, 1800, 15, 200, 2, 1, 1])\n",
    "input_data = input_data.reshape(1, -1)\n",
    "w50epochs_prediction = model_with_50epochs.predict(input_data)[0][0]"
   ]
  },
  {
   "cell_type": "code",
   "execution_count": 41,
   "metadata": {},
   "outputs": [
    {
     "name": "stdout",
     "output_type": "stream",
     "text": [
      "Keras model archive loading:\n",
      "File Name                                             Modified             Size\n",
      "config.json                                    2023-07-06 14:14:50         2123\n",
      "metadata.json                                  2023-07-06 14:14:50           64\n",
      "variables.h5                                   2023-07-06 14:14:50       165696\n",
      "Keras weights file (<HDF5 file \"variables.h5\" (mode r)>) loading:\n",
      "...layers\\dense\n",
      "......vars\n",
      ".........0\n",
      ".........1\n",
      "...layers\\dense_1\n",
      "......vars\n",
      ".........0\n",
      ".........1\n",
      "...layers\\dense_2\n",
      "......vars\n",
      ".........0\n",
      ".........1\n"
     ]
    },
    {
     "name": "stdout",
     "output_type": "stream",
     "text": [
      "...layers\\dropout\n",
      "......vars\n",
      "...layers\\dropout_1\n",
      "......vars\n",
      "...metrics\\mean\n",
      "......vars\n",
      ".........0\n",
      ".........1\n",
      "...metrics\\mean_metric_wrapper\n",
      "......vars\n",
      ".........0\n",
      ".........1\n",
      "...optimizer\n",
      "......vars\n",
      ".........0\n",
      ".........1\n",
      ".........10\n",
      ".........11\n",
      ".........12\n",
      ".........2\n",
      ".........3\n",
      ".........4\n",
      ".........5\n",
      ".........6\n",
      ".........7\n",
      ".........8\n",
      ".........9\n",
      "...vars\n",
      "1/1 [==============================] - 0s 105ms/step\n"
     ]
    }
   ],
   "source": [
    "with open(\"model_with_10epochs.pickle\", 'rb') as file:  \n",
    "    model_with_10epochs = pickle.load(file)\n",
    "input_data = np.array([0, 1, 1, 1, 1, 1, 10, 2, 3, 10, 10, 1200, 0.9, 2, 17, 20, 50, 3, 100, 1800, 15, 200, 2, 1, 1])\n",
    "input_data = input_data.reshape(1, -1)\n",
    "w10epochs_prediction = model_with_10epochs.predict(input_data)[0][0]"
   ]
  },
  {
   "cell_type": "code",
   "execution_count": 42,
   "metadata": {},
   "outputs": [
    {
     "name": "stderr",
     "output_type": "stream",
     "text": [
      "C:\\Users\\hazaz\\AppData\\Local\\Packages\\PythonSoftwareFoundation.Python.3.9_qbz5n2kfra8p0\\LocalCache\\local-packages\\Python39\\site-packages\\sklearn\\base.py:420: UserWarning: X does not have valid feature names, but LinearRegression was fitted with feature names\n",
      "  warnings.warn(\n"
     ]
    }
   ],
   "source": [
    "with open(\"machinelearning_model.pickle\", 'rb') as file:  \n",
    "    model_with_10epochs = pickle.load(file)\n",
    "input_data = np.array([0, 1, 1, 1, 1, 1, 10, 2, 3, 10, 10, 1200, 0.9, 2, 17, 20, 50, 3, 100, 1800, 15, 200, 2, 1, 1])\n",
    "input_data = input_data.reshape(1, -1)\n",
    "machinelearning_prediction = model_with_10epochs.predict(input_data)[0]"
   ]
  },
  {
   "cell_type": "code",
   "execution_count": 44,
   "metadata": {},
   "outputs": [
    {
     "name": "stdout",
     "output_type": "stream",
     "text": [
      "Kết quả dự đoán mong muốn từ Model: 3.94\n",
      "Kết quả dự đoán của Model sau 10 lần Epochs: 2.14\n",
      "Kết quả dự đoán của Model sau 20 lần Epochs: 3.55\n",
      "Kết quả dự đoán của Model sau 50 lần Epochs: 3.51\n"
     ]
    }
   ],
   "source": [
    "print(\"Wanted Preciction Model:\", round(machinelearning_prediction,2))\n",
    "print(\"Actual Predition after 10 Epochs:\", round(w10epochs_prediction,2))\n",
    "print(\"Actual Predition after 20 Epochs:\", round(w20epochs_prediction,2))\n",
    "print(\"Actual Predition after 50 Epochs:\", round(w50epochs_prediction,2))"
   ]
  }
 ],
 "metadata": {
  "kernelspec": {
   "display_name": "Python 3",
   "language": "python",
   "name": "python3"
  },
  "language_info": {
   "codemirror_mode": {
    "name": "ipython",
    "version": 3
   },
   "file_extension": ".py",
   "mimetype": "text/x-python",
   "name": "python",
   "nbconvert_exporter": "python",
   "pygments_lexer": "ipython3",
   "version": "3.10.0"
  },
  "orig_nbformat": 4
 },
 "nbformat": 4,
 "nbformat_minor": 2
}
